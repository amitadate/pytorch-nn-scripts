{
 "cells": [
  {
   "cell_type": "code",
   "execution_count": 6,
   "metadata": {},
   "outputs": [],
   "source": [
    "from tqdm import tqdm, tqdm_notebook\n",
    "from tqdm import tnrange,tqdm_notebook\n",
    "from time import sleep"
   ]
  },
  {
   "cell_type": "code",
   "execution_count": 7,
   "metadata": {},
   "outputs": [
    {
     "name": "stderr",
     "output_type": "stream",
     "text": [
      "100%|██████████| 10/10 [00:01<00:00,  9.56it/s]\n"
     ]
    }
   ],
   "source": [
    "for i in tqdm(range(int(10))):\n",
    "    sleep(.1)\n",
    "    "
   ]
  },
  {
   "cell_type": "code",
   "execution_count": 8,
   "metadata": {},
   "outputs": [
    {
     "name": "stderr",
     "output_type": "stream",
     "text": [
      "loop 1:   0%|          | 0/10 [00:00<?, ?it/s]\n",
      "loop 2:   0%|          | 0/3 [00:00<?, ?it/s]\u001b[A\n",
      "loop 2: 100%|██████████| 3/3 [00:00<00:00, 96.07it/s]\u001b[A\n",
      "loop 2:   0%|          | 0/3 [00:00<?, ?it/s]\u001b[A\n",
      "loop 2: 100%|██████████| 3/3 [00:00<00:00, 90.26it/s]\u001b[A\n",
      "loop 2:   0%|          | 0/3 [00:00<?, ?it/s]\u001b[A\n",
      "loop 1:  30%|███       | 3/10 [00:00<00:00, 27.87it/s]\n",
      "loop 2:   0%|          | 0/3 [00:00<?, ?it/s]\u001b[A\n",
      "loop 2: 100%|██████████| 3/3 [00:00<00:00, 84.98it/s]\u001b[A\n",
      "loop 2:   0%|          | 0/3 [00:00<?, ?it/s]\u001b[A\n",
      "loop 2: 100%|██████████| 3/3 [00:00<00:00, 91.00it/s]\u001b[A\n",
      "loop 2:   0%|          | 0/3 [00:00<?, ?it/s]\u001b[A\n",
      "loop 1:  60%|██████    | 6/10 [00:00<00:00, 27.48it/s]\n",
      "loop 2:   0%|          | 0/3 [00:00<?, ?it/s]\u001b[A\n",
      "loop 2: 100%|██████████| 3/3 [00:00<00:00, 86.48it/s]\u001b[A\n",
      "loop 2:   0%|          | 0/3 [00:00<?, ?it/s]\u001b[A\n",
      "loop 2: 100%|██████████| 3/3 [00:00<00:00, 89.98it/s]\u001b[A\n",
      "loop 2:   0%|          | 0/3 [00:00<?, ?it/s]\u001b[A\n",
      "loop 1:  90%|█████████ | 9/10 [00:00<00:00, 27.45it/s]\n",
      "loop 2:   0%|          | 0/3 [00:00<?, ?it/s]\u001b[A\n",
      "loop 1: 100%|██████████| 10/10 [00:00<00:00, 27.10it/s]\n"
     ]
    }
   ],
   "source": [
    "for i in tqdm(range(0,10),desc = 'loop 1'):\n",
    "    for j in tqdm(range(0,3), desc = 'loop 2'):\n",
    "        \n",
    "        sleep(0.01)"
   ]
  },
  {
   "cell_type": "code",
   "execution_count": 10,
   "metadata": {},
   "outputs": [
    {
     "name": "stderr",
     "output_type": "stream",
     "text": [
      "\n",
      "  0%|          | 0/10 [00:00<?, ?it/s]\u001b[A\n",
      "100%|██████████| 10/10 [00:00<00:00, 10504.14it/s]\u001b[A"
     ]
    },
    {
     "name": "stdout",
     "output_type": "stream",
     "text": [
      "0\n",
      "1\n",
      "2\n",
      "3\n",
      "4\n",
      "5\n",
      "6\n",
      "7\n",
      "8\n",
      "9\n"
     ]
    }
   ],
   "source": [
    "for i in tqdm(range(0,10)):\n",
    "    print(i)"
   ]
  },
  {
   "cell_type": "code",
   "execution_count": null,
   "metadata": {},
   "outputs": [],
   "source": []
  },
  {
   "cell_type": "code",
   "execution_count": null,
   "metadata": {},
   "outputs": [],
   "source": []
  },
  {
   "cell_type": "code",
   "execution_count": null,
   "metadata": {},
   "outputs": [],
   "source": []
  },
  {
   "cell_type": "code",
   "execution_count": null,
   "metadata": {},
   "outputs": [],
   "source": []
  },
  {
   "cell_type": "code",
   "execution_count": null,
   "metadata": {},
   "outputs": [],
   "source": []
  }
 ],
 "metadata": {
  "kernelspec": {
   "display_name": "Python 3",
   "language": "python",
   "name": "python3"
  },
  "language_info": {
   "codemirror_mode": {
    "name": "ipython",
    "version": 3
   },
   "file_extension": ".py",
   "mimetype": "text/x-python",
   "name": "python",
   "nbconvert_exporter": "python",
   "pygments_lexer": "ipython3",
   "version": "3.6.8"
  }
 },
 "nbformat": 4,
 "nbformat_minor": 2
}
