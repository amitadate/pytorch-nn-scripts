{
 "cells": [
  {
   "cell_type": "code",
   "execution_count": 9,
   "metadata": {},
   "outputs": [],
   "source": [
    "from tqdm import tqdm, tqdm_notebook\n",
    "from tqdm import tnrange,tqdm_notebook\n",
    "from time import sleep"
   ]
  },
  {
   "cell_type": "code",
   "execution_count": 20,
   "metadata": {},
   "outputs": [
    {
     "name": "stderr",
     "output_type": "stream",
     "text": [
      "\n",
      "  0%|          | 0/10 [00:00<?, ?it/s]\u001b[A\n",
      " 10%|█         | 1/10 [00:01<00:09,  1.00s/it]\u001b[A\n",
      " 20%|██        | 2/10 [00:02<00:08,  1.00s/it]\u001b[A\n",
      " 30%|███       | 3/10 [00:03<00:07,  1.00s/it]\u001b[A\n",
      " 40%|████      | 4/10 [00:04<00:06,  1.00s/it]\u001b[A\n",
      " 50%|█████     | 5/10 [00:05<00:05,  1.00s/it]\u001b[A\n",
      " 60%|██████    | 6/10 [00:06<00:04,  1.00s/it]\u001b[A\n",
      " 70%|███████   | 7/10 [00:07<00:03,  1.01s/it]\u001b[A\n",
      " 80%|████████  | 8/10 [00:08<00:02,  1.01s/it]\u001b[A\n",
      " 90%|█████████ | 9/10 [00:09<00:01,  1.00s/it]\u001b[A\n",
      "100%|██████████| 10/10 [00:10<00:00,  1.01s/it]\u001b[A\n",
      "\u001b[A"
     ]
    }
   ],
   "source": [
    "for i in tqdm(range(int(10))):\n",
    "    sleep(1)\n",
    "    "
   ]
  },
  {
   "cell_type": "code",
   "execution_count": 15,
   "metadata": {},
   "outputs": [
    {
     "name": "stderr",
     "output_type": "stream",
     "text": [
      "loop 1:   0%|          | 0/10 [00:00<?, ?it/s]\n",
      "loop 2:   0%|          | 0/3 [00:00<?, ?it/s]\u001b[A\n",
      "loop 2: 100%|██████████| 3/3 [00:00<00:00, 89.14it/s]\u001b[A\n",
      "loop 2:   0%|          | 0/3 [00:00<?, ?it/s]\u001b[A\n",
      "loop 2: 100%|██████████| 3/3 [00:00<00:00, 89.12it/s]\u001b[A\n",
      "loop 2:   0%|          | 0/3 [00:00<?, ?it/s]\u001b[A\n",
      "loop 1:  30%|███       | 3/10 [00:00<00:00, 26.59it/s]\n",
      "loop 2:   0%|          | 0/3 [00:00<?, ?it/s]\u001b[A\n",
      "loop 2: 100%|██████████| 3/3 [00:00<00:00, 92.95it/s]\u001b[A\n",
      "loop 2:   0%|          | 0/3 [00:00<?, ?it/s]\u001b[A\n",
      "loop 2: 100%|██████████| 3/3 [00:00<00:00, 88.49it/s]\u001b[A\n",
      "loop 2:   0%|          | 0/3 [00:00<?, ?it/s]\u001b[A\n",
      "loop 1:  60%|██████    | 6/10 [00:00<00:00, 26.75it/s]\n",
      "loop 2:   0%|          | 0/3 [00:00<?, ?it/s]\u001b[A\n",
      "loop 2: 100%|██████████| 3/3 [00:00<00:00, 92.32it/s]\u001b[A\n",
      "loop 2:   0%|          | 0/3 [00:00<?, ?it/s]\u001b[A\n",
      "loop 2: 100%|██████████| 3/3 [00:00<00:00, 87.36it/s]\u001b[A\n",
      "loop 2:   0%|          | 0/3 [00:00<?, ?it/s]\u001b[A\n",
      "loop 1:  90%|█████████ | 9/10 [00:00<00:00, 26.81it/s]\n",
      "loop 2:   0%|          | 0/3 [00:00<?, ?it/s]\u001b[A\n",
      "loop 1: 100%|██████████| 10/10 [00:00<00:00, 26.90it/s]\n"
     ]
    }
   ],
   "source": [
    "for i in tqdm(range(0,10),desc = 'loop 1'):\n",
    "    for j in tqdm(range(0,3), desc = 'loop 2'):\n",
    "        sleep(0.01)"
   ]
  },
  {
   "cell_type": "code",
   "execution_count": null,
   "metadata": {},
   "outputs": [],
   "source": []
  },
  {
   "cell_type": "code",
   "execution_count": null,
   "metadata": {},
   "outputs": [],
   "source": []
  },
  {
   "cell_type": "code",
   "execution_count": null,
   "metadata": {},
   "outputs": [],
   "source": []
  },
  {
   "cell_type": "code",
   "execution_count": null,
   "metadata": {},
   "outputs": [],
   "source": []
  },
  {
   "cell_type": "code",
   "execution_count": null,
   "metadata": {},
   "outputs": [],
   "source": []
  },
  {
   "cell_type": "code",
   "execution_count": null,
   "metadata": {},
   "outputs": [],
   "source": []
  }
 ],
 "metadata": {
  "kernelspec": {
   "display_name": "Python 3",
   "language": "python",
   "name": "python3"
  },
  "language_info": {
   "codemirror_mode": {
    "name": "ipython",
    "version": 3
   },
   "file_extension": ".py",
   "mimetype": "text/x-python",
   "name": "python",
   "nbconvert_exporter": "python",
   "pygments_lexer": "ipython3",
   "version": "3.6.8"
  }
 },
 "nbformat": 4,
 "nbformat_minor": 2
}
