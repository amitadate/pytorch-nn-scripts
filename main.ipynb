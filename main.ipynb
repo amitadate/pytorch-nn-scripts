{
 "cells": [
  {
   "cell_type": "code",
   "execution_count": 166,
   "metadata": {
    "colab": {
     "base_uri": "https://localhost:8080/",
     "height": 326
    },
    "colab_type": "code",
    "executionInfo": {
     "elapsed": 1936,
     "status": "ok",
     "timestamp": 1561484640985,
     "user": {
      "displayName": "Amit Adate",
      "photoUrl": "https://lh6.googleusercontent.com/-_LLvqLp0_1k/AAAAAAAAAAI/AAAAAAAAAAc/oL2VpHQdcL8/s64/photo.jpg",
      "userId": "12222857458659028959"
     },
     "user_tz": 300
    },
    "id": "1yvETg5HvJ9O",
    "outputId": "8e5daa2e-bd29-4420-cfd3-a5d4a329d00e"
   },
   "outputs": [
    {
     "name": "stdout",
     "output_type": "stream",
     "text": [
      "GPU Available\n",
      "input tensor([[0.2961, 0.5166, 0.2517],\n",
      "        [0.6886, 0.0740, 0.8665],\n",
      "        [0.1366, 0.1025, 0.1841],\n",
      "        [0.7264, 0.3153, 0.6871],\n",
      "        [0.0756, 0.1966, 0.3164]])\n",
      "/usr/local/lib/python3.6/dist-packages/torch/nn/functional.py:1374: UserWarning: nn.functional.tanh is deprecated. Use torch.tanh instead.\n",
      "  warnings.warn(\"nn.functional.tanh is deprecated. Use torch.tanh instead.\")\n",
      "model Net(\n",
      "  (h1): Linear(in_features=3, out_features=4, bias=True)\n",
      "  (h2): Linear(in_features=4, out_features=2, bias=True)\n",
      ")\n",
      "out tensor([[ 0.3287, -0.4504],\n",
      "        [ 0.3534, -0.4368],\n",
      "        [ 0.3250, -0.4150],\n",
      "        [ 0.3374, -0.4384],\n",
      "        [ 0.3554, -0.4506]], grad_fn=<AddmmBackward>)\n"
     ]
    }
   ],
   "source": []
  },
  {
   "cell_type": "code",
   "execution_count": null,
   "metadata": {
    "colab": {},
    "colab_type": "code",
    "id": "eN-i9F1tvJ5z"
   },
   "outputs": [],
   "source": []
  },
  {
   "cell_type": "code",
   "execution_count": 122,
   "metadata": {
    "colab": {
     "base_uri": "https://localhost:8080/",
     "height": 306
    },
    "colab_type": "code",
    "executionInfo": {
     "elapsed": 1106,
     "status": "ok",
     "timestamp": 1561483441778,
     "user": {
      "displayName": "Amit Adate",
      "photoUrl": "https://lh6.googleusercontent.com/-_LLvqLp0_1k/AAAAAAAAAAI/AAAAAAAAAAc/oL2VpHQdcL8/s64/photo.jpg",
      "userId": "12222857458659028959"
     },
     "user_tz": 300
    },
    "id": "_yU2ged7bvTN",
    "outputId": "64eb461c-aba1-437f-ba28-9d33a0e36e1c"
   },
   "outputs": [
    {
     "name": "stdout",
     "output_type": "stream",
     "text": [
      "Tue Jun 25 17:24:01 2019       \n",
      "+-----------------------------------------------------------------------------+\n",
      "| NVIDIA-SMI 418.67       Driver Version: 410.79       CUDA Version: 10.0     |\n",
      "|-------------------------------+----------------------+----------------------+\n",
      "| GPU  Name        Persistence-M| Bus-Id        Disp.A | Volatile Uncorr. ECC |\n",
      "| Fan  Temp  Perf  Pwr:Usage/Cap|         Memory-Usage | GPU-Util  Compute M. |\n",
      "|===============================+======================+======================|\n",
      "|   0  Tesla K80           Off  | 00000000:00:04.0 Off |                    0 |\n",
      "| N/A   32C    P8    27W / 149W |     11MiB / 11441MiB |      0%      Default |\n",
      "+-------------------------------+----------------------+----------------------+\n",
      "                                                                               \n",
      "+-----------------------------------------------------------------------------+\n",
      "| Processes:                                                       GPU Memory |\n",
      "|  GPU       PID   Type   Process name                             Usage      |\n",
      "|=============================================================================|\n",
      "|  No running processes found                                                 |\n",
      "+-----------------------------------------------------------------------------+\n"
     ]
    }
   ],
   "source": [
    "!nvidia-smi"
   ]
  },
  {
   "cell_type": "code",
   "execution_count": 165,
   "metadata": {
    "colab": {
     "base_uri": "https://localhost:8080/",
     "height": 326
    },
    "colab_type": "code",
    "executionInfo": {
     "elapsed": 1958,
     "status": "ok",
     "timestamp": 1561484624961,
     "user": {
      "displayName": "Amit Adate",
      "photoUrl": "https://lh6.googleusercontent.com/-_LLvqLp0_1k/AAAAAAAAAAI/AAAAAAAAAAc/oL2VpHQdcL8/s64/photo.jpg",
      "userId": "12222857458659028959"
     },
     "user_tz": 300
    },
    "id": "Mv5bxNfWvHTG",
    "outputId": "c6430201-9a61-4020-c33b-5cf2dea1ba90"
   },
   "outputs": [
    {
     "name": "stdout",
     "output_type": "stream",
     "text": [
      "GPU Available\n",
      "input tensor([[0.2961, 0.5166, 0.2517],\n",
      "        [0.6886, 0.0740, 0.8665],\n",
      "        [0.1366, 0.1025, 0.1841],\n",
      "        [0.7264, 0.3153, 0.6871],\n",
      "        [0.0756, 0.1966, 0.3164]])\n",
      "/usr/local/lib/python3.6/dist-packages/torch/nn/functional.py:1374: UserWarning: nn.functional.tanh is deprecated. Use torch.tanh instead.\n",
      "  warnings.warn(\"nn.functional.tanh is deprecated. Use torch.tanh instead.\")\n",
      "model Net(\n",
      "  (h1): Linear(in_features=3, out_features=4, bias=True)\n",
      "  (h2): Linear(in_features=4, out_features=2, bias=True)\n",
      ")\n",
      "out tensor([[ 0.3287, -0.4504],\n",
      "        [ 0.3534, -0.4368],\n",
      "        [ 0.3250, -0.4150],\n",
      "        [ 0.3374, -0.4384],\n",
      "        [ 0.3554, -0.4506]], grad_fn=<AddmmBackward>)\n"
     ]
    }
   ],
   "source": []
  },
  {
   "cell_type": "code",
   "execution_count": 123,
   "metadata": {
    "colab": {
     "base_uri": "https://localhost:8080/",
     "height": 54
    },
    "colab_type": "code",
    "executionInfo": {
     "elapsed": 281,
     "status": "ok",
     "timestamp": 1561483442730,
     "user": {
      "displayName": "Amit Adate",
      "photoUrl": "https://lh6.googleusercontent.com/-_LLvqLp0_1k/AAAAAAAAAAI/AAAAAAAAAAc/oL2VpHQdcL8/s64/photo.jpg",
      "userId": "12222857458659028959"
     },
     "user_tz": 300
    },
    "id": "2Fva71dUbzv1",
    "outputId": "7c262ea6-9928-4e2e-e116-63a0e6d12b6f"
   },
   "outputs": [
    {
     "name": "stdout",
     "output_type": "stream",
     "text": [
      "Drive already mounted at /content/gdrive; to attempt to forcibly remount, call drive.mount(\"/content/gdrive\", force_remount=True).\n"
     ]
    }
   ],
   "source": [
    "from google.colab import drive\n",
    "drive.mount('/content/gdrive')\n"
   ]
  },
  {
   "cell_type": "code",
   "execution_count": 154,
   "metadata": {
    "colab": {
     "base_uri": "https://localhost:8080/",
     "height": 34
    },
    "colab_type": "code",
    "executionInfo": {
     "elapsed": 307,
     "status": "ok",
     "timestamp": 1561484554739,
     "user": {
      "displayName": "Amit Adate",
      "photoUrl": "https://lh6.googleusercontent.com/-_LLvqLp0_1k/AAAAAAAAAAI/AAAAAAAAAAc/oL2VpHQdcL8/s64/photo.jpg",
      "userId": "12222857458659028959"
     },
     "user_tz": 300
    },
    "id": "7HzK7yHNbzyO",
    "outputId": "f896d688-c549-4bd2-bf39-5a3cdba1e046"
   },
   "outputs": [
    {
     "name": "stdout",
     "output_type": "stream",
     "text": [
      "path loaded: /content/gdrive/My Drive/pytorch-nn-scripts\n"
     ]
    }
   ],
   "source": [
    "import os\n",
    "path = '/content/gdrive/My Drive/pytorch-nn-scripts'\n",
    "os.chdir(path)\n",
    "print('path loaded: ' + os.getcwd() )\n"
   ]
  },
  {
   "cell_type": "code",
   "execution_count": 167,
   "metadata": {
    "colab": {
     "base_uri": "https://localhost:8080/",
     "height": 34
    },
    "colab_type": "code",
    "executionInfo": {
     "elapsed": 1552,
     "status": "ok",
     "timestamp": 1561484666605,
     "user": {
      "displayName": "Amit Adate",
      "photoUrl": "https://lh6.googleusercontent.com/-_LLvqLp0_1k/AAAAAAAAAAI/AAAAAAAAAAc/oL2VpHQdcL8/s64/photo.jpg",
      "userId": "12222857458659028959"
     },
     "user_tz": 300
    },
    "id": "uQcdqTdnvQdE",
    "outputId": "bb380184-d216-4ecd-b764-77e54218c067"
   },
   "outputs": [
    {
     "name": "stdout",
     "output_type": "stream",
     "text": [
      "fnn.py\tmain.ipynb  __pycache__  README.md\n"
     ]
    }
   ],
   "source": [
    "!ls"
   ]
  },
  {
   "cell_type": "code",
   "execution_count": 170,
   "metadata": {
    "colab": {
     "base_uri": "https://localhost:8080/",
     "height": 272
    },
    "colab_type": "code",
    "executionInfo": {
     "elapsed": 2014,
     "status": "ok",
     "timestamp": 1561484684097,
     "user": {
      "displayName": "Amit Adate",
      "photoUrl": "https://lh6.googleusercontent.com/-_LLvqLp0_1k/AAAAAAAAAAI/AAAAAAAAAAc/oL2VpHQdcL8/s64/photo.jpg",
      "userId": "12222857458659028959"
     },
     "user_tz": 300
    },
    "id": "YRd_nAdFkKhA",
    "outputId": "b5a9f7e6-5bf6-4cfc-f772-b1823de66ab5"
   },
   "outputs": [
    {
     "name": "stdout",
     "output_type": "stream",
     "text": [
      "GPU Available\n",
      "input tensor([[0.2961, 0.5166, 0.2517],\n",
      "        [0.6886, 0.0740, 0.8665],\n",
      "        [0.1366, 0.1025, 0.1841],\n",
      "        [0.7264, 0.3153, 0.6871],\n",
      "        [0.0756, 0.1966, 0.3164]])\n",
      "model Net(\n",
      "  (h1): Linear(in_features=3, out_features=4, bias=True)\n",
      "  (h2): Linear(in_features=4, out_features=2, bias=True)\n",
      ")\n",
      "out tensor([[ 0.3287, -0.4504],\n",
      "        [ 0.3534, -0.4368],\n",
      "        [ 0.3250, -0.4150],\n",
      "        [ 0.3374, -0.4384],\n",
      "        [ 0.3554, -0.4506]], grad_fn=<AddmmBackward>)\n"
     ]
    }
   ],
   "source": [
    "!python fnn.py"
   ]
  },
  {
   "cell_type": "markdown",
   "metadata": {
    "colab_type": "text",
    "id": "I1QsHuLjmAIX"
   },
   "source": [
    "# Run the cell below for every file update "
   ]
  },
  {
   "cell_type": "code",
   "execution_count": 156,
   "metadata": {
    "colab": {
     "base_uri": "https://localhost:8080/",
     "height": 258
    },
    "colab_type": "code",
    "executionInfo": {
     "elapsed": 326,
     "status": "ok",
     "timestamp": 1561484558303,
     "user": {
      "displayName": "Amit Adate",
      "photoUrl": "https://lh6.googleusercontent.com/-_LLvqLp0_1k/AAAAAAAAAAI/AAAAAAAAAAc/oL2VpHQdcL8/s64/photo.jpg",
      "userId": "12222857458659028959"
     },
     "user_tz": 300
    },
    "id": "WrJFFmi-bz0h",
    "outputId": "732f4b28-2d83-48fa-933b-4721aeac6973"
   },
   "outputs": [
    {
     "name": "stdout",
     "output_type": "stream",
     "text": [
      "GPU Available\n",
      "input 3\n",
      "model Net(\n",
      "  (h1): Linear(in_features=3, out_features=4, bias=True)\n",
      "  (h2): Linear(in_features=4, out_features=2, bias=True)\n",
      ")\n",
      "out tensor([[ 0.3287, -0.4504],\n",
      "        [ 0.3534, -0.4368],\n",
      "        [ 0.3250, -0.4150],\n",
      "        [ 0.3374, -0.4384],\n",
      "        [ 0.3554, -0.4506]], grad_fn=<AddmmBackward>)\n"
     ]
    },
    {
     "name": "stderr",
     "output_type": "stream",
     "text": [
      "/usr/local/lib/python3.6/dist-packages/torch/nn/functional.py:1374: UserWarning: nn.functional.tanh is deprecated. Use torch.tanh instead.\n",
      "  warnings.warn(\"nn.functional.tanh is deprecated. Use torch.tanh instead.\")\n"
     ]
    }
   ],
   "source": [
    "from importlib.machinery import SourceFileLoader\n",
    "fnn = SourceFileLoader(path,'fnn.py').load_module()\n",
    "\n"
   ]
  },
  {
   "cell_type": "code",
   "execution_count": 157,
   "metadata": {
    "colab": {
     "base_uri": "https://localhost:8080/",
     "height": 34
    },
    "colab_type": "code",
    "executionInfo": {
     "elapsed": 321,
     "status": "ok",
     "timestamp": 1561484559741,
     "user": {
      "displayName": "Amit Adate",
      "photoUrl": "https://lh6.googleusercontent.com/-_LLvqLp0_1k/AAAAAAAAAAI/AAAAAAAAAAc/oL2VpHQdcL8/s64/photo.jpg",
      "userId": "12222857458659028959"
     },
     "user_tz": 300
    },
    "id": "PMqhA_O9jUsO",
    "outputId": "e1cac746-cb23-4361-a295-3ce12417f13e"
   },
   "outputs": [
    {
     "data": {
      "text/plain": [
       "<module '/content/gdrive/My Drive/pytorch-nn-scripts' from 'fnn.py'>"
      ]
     },
     "execution_count": 157,
     "metadata": {
      "tags": []
     },
     "output_type": "execute_result"
    }
   ],
   "source": [
    "fnn"
   ]
  },
  {
   "cell_type": "code",
   "execution_count": 158,
   "metadata": {
    "colab": {
     "base_uri": "https://localhost:8080/",
     "height": 34
    },
    "colab_type": "code",
    "executionInfo": {
     "elapsed": 323,
     "status": "ok",
     "timestamp": 1561484560829,
     "user": {
      "displayName": "Amit Adate",
      "photoUrl": "https://lh6.googleusercontent.com/-_LLvqLp0_1k/AAAAAAAAAAI/AAAAAAAAAAc/oL2VpHQdcL8/s64/photo.jpg",
      "userId": "12222857458659028959"
     },
     "user_tz": 300
    },
    "id": "o9hjyJxzeYWW",
    "outputId": "07f905f4-9d11-46e2-aaf0-de299dd320dd"
   },
   "outputs": [
    {
     "name": "stdout",
     "output_type": "stream",
     "text": [
      "loaded class\n"
     ]
    }
   ],
   "source": [
    "b = fnn.a()"
   ]
  },
  {
   "cell_type": "code",
   "execution_count": 159,
   "metadata": {
    "colab": {
     "base_uri": "https://localhost:8080/",
     "height": 34
    },
    "colab_type": "code",
    "executionInfo": {
     "elapsed": 343,
     "status": "ok",
     "timestamp": 1561484562181,
     "user": {
      "displayName": "Amit Adate",
      "photoUrl": "https://lh6.googleusercontent.com/-_LLvqLp0_1k/AAAAAAAAAAI/AAAAAAAAAAc/oL2VpHQdcL8/s64/photo.jpg",
      "userId": "12222857458659028959"
     },
     "user_tz": 300
    },
    "id": "gkvb4Ibsenj8",
    "outputId": "048cfa6c-50b1-485f-f250-43b20b4ad4c2"
   },
   "outputs": [
    {
     "name": "stdout",
     "output_type": "stream",
     "text": [
      "loaded func1\n"
     ]
    }
   ],
   "source": [
    "b.func1()\n"
   ]
  },
  {
   "cell_type": "code",
   "execution_count": null,
   "metadata": {
    "colab": {},
    "colab_type": "code",
    "id": "zoQR2WeYh716"
   },
   "outputs": [],
   "source": []
  },
  {
   "cell_type": "markdown",
   "metadata": {
    "colab_type": "text",
    "id": "O7jiG4_kmwpx"
   },
   "source": [
    "# Starting coding as Terminal "
   ]
  },
  {
   "cell_type": "code",
   "execution_count": 1,
   "metadata": {
    "colab": {
     "base_uri": "https://localhost:8080/",
     "height": 34
    },
    "colab_type": "code",
    "executionInfo": {
     "elapsed": 1600,
     "status": "ok",
     "timestamp": 1561483497409,
     "user": {
      "displayName": "Amit Adate",
      "photoUrl": "https://lh6.googleusercontent.com/-_LLvqLp0_1k/AAAAAAAAAAI/AAAAAAAAAAc/oL2VpHQdcL8/s64/photo.jpg",
      "userId": "12222857458659028959"
     },
     "user_tz": 300
    },
    "id": "94cDHCgwm2BD",
    "outputId": "acf45f15-3d4a-48c6-d382-9195d46212f0"
   },
   "outputs": [
    {
     "name": "stdout",
     "output_type": "stream",
     "text": [
      "README.md    \u001b[34m__pycache__\u001b[m\u001b[m/ fnn.py       main.ipynb   \u001b[34mruns\u001b[m\u001b[m/\n"
     ]
    }
   ],
   "source": [
    "ls"
   ]
  },
  {
   "cell_type": "code",
   "execution_count": 2,
   "metadata": {
    "colab": {},
    "colab_type": "code",
    "id": "Gi2Hcpvgm99n"
   },
   "outputs": [
    {
     "name": "stdout",
     "output_type": "stream",
     "text": [
      "CPU Available\n"
     ]
    },
    {
     "ename": "NameError",
     "evalue": "name 'SummaryWriter' is not defined",
     "output_type": "error",
     "traceback": [
      "\u001b[0;31m---------------------------------------------------------------------------\u001b[0m",
      "\u001b[0;31mNameError\u001b[0m                                 Traceback (most recent call last)",
      "\u001b[0;32m<ipython-input-2-a0132eefdc35>\u001b[0m in \u001b[0;36m<module>\u001b[0;34m()\u001b[0m\n\u001b[0;32m----> 1\u001b[0;31m \u001b[0;32mfrom\u001b[0m \u001b[0mfnn\u001b[0m \u001b[0;32mimport\u001b[0m \u001b[0;34m*\u001b[0m\u001b[0;34m\u001b[0m\u001b[0;34m\u001b[0m\u001b[0m\n\u001b[0m",
      "\u001b[0;32m~/gdrive/data/pytorch-nn-scripts/fnn.py\u001b[0m in \u001b[0;36m<module>\u001b[0;34m()\u001b[0m\n\u001b[1;32m     14\u001b[0m         \u001b[0mprint\u001b[0m\u001b[0;34m(\u001b[0m\u001b[0;34m'CPU Available'\u001b[0m\u001b[0;34m)\u001b[0m\u001b[0;34m\u001b[0m\u001b[0;34m\u001b[0m\u001b[0m\n\u001b[1;32m     15\u001b[0m \u001b[0;34m\u001b[0m\u001b[0m\n\u001b[0;32m---> 16\u001b[0;31m \u001b[0mwriter\u001b[0m \u001b[0;34m=\u001b[0m \u001b[0mSummaryWriter\u001b[0m\u001b[0;34m(\u001b[0m\u001b[0;34m)\u001b[0m\u001b[0;34m\u001b[0m\u001b[0;34m\u001b[0m\u001b[0m\n\u001b[0m\u001b[1;32m     17\u001b[0m \u001b[0;34m\u001b[0m\u001b[0m\n\u001b[1;32m     18\u001b[0m \u001b[0;34m\u001b[0m\u001b[0m\n",
      "\u001b[0;31mNameError\u001b[0m: name 'SummaryWriter' is not defined"
     ]
    }
   ],
   "source": [
    "from fnn import *"
   ]
  },
  {
   "cell_type": "code",
   "execution_count": null,
   "metadata": {
    "colab": {},
    "colab_type": "code",
    "id": "qfkODA-Dm967"
   },
   "outputs": [],
   "source": []
  },
  {
   "cell_type": "code",
   "execution_count": null,
   "metadata": {
    "colab": {},
    "colab_type": "code",
    "id": "iOOSTCIym94H"
   },
   "outputs": [],
   "source": []
  },
  {
   "cell_type": "code",
   "execution_count": null,
   "metadata": {
    "colab": {},
    "colab_type": "code",
    "id": "dReWFItJm91d"
   },
   "outputs": [],
   "source": []
  },
  {
   "cell_type": "code",
   "execution_count": null,
   "metadata": {
    "colab": {},
    "colab_type": "code",
    "id": "AhWKhdVnm9yt"
   },
   "outputs": [],
   "source": []
  },
  {
   "cell_type": "code",
   "execution_count": null,
   "metadata": {
    "colab": {},
    "colab_type": "code",
    "id": "zji5zK8Im9wL"
   },
   "outputs": [],
   "source": []
  },
  {
   "cell_type": "code",
   "execution_count": null,
   "metadata": {
    "colab": {},
    "colab_type": "code",
    "id": "GPdFe5AJm9tj"
   },
   "outputs": [],
   "source": []
  }
 ],
 "metadata": {
  "accelerator": "GPU",
  "colab": {
   "collapsed_sections": [],
   "name": "main.ipynb",
   "provenance": [],
   "version": "0.3.2"
  },
  "kernelspec": {
   "display_name": "Python 3",
   "language": "python",
   "name": "python3"
  },
  "language_info": {
   "codemirror_mode": {
    "name": "ipython",
    "version": 3
   },
   "file_extension": ".py",
   "mimetype": "text/x-python",
   "name": "python",
   "nbconvert_exporter": "python",
   "pygments_lexer": "ipython3",
   "version": "3.6.8"
  }
 },
 "nbformat": 4,
 "nbformat_minor": 2
}
