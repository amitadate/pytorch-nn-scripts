{
 "cells": [
  {
   "cell_type": "code",
   "execution_count": 6,
   "metadata": {},
   "outputs": [],
   "source": [
    "from tqdm import tqdm, tqdm_notebook\n",
    "from tqdm import tnrange,tqdm_notebook\n",
    "from time import sleep"
   ]
  },
  {
   "cell_type": "code",
   "execution_count": 7,
   "metadata": {},
   "outputs": [
    {
     "name": "stderr",
     "output_type": "stream",
     "text": [
      "100%|██████████| 10/10 [00:01<00:00,  9.56it/s]\n"
     ]
    }
   ],
   "source": [
    "for i in tqdm(range(int(10))):\n",
    "    sleep(.1)\n",
    "    "
   ]
  },
  {
   "cell_type": "code",
   "execution_count": 8,
   "metadata": {},
   "outputs": [
    {
     "name": "stderr",
     "output_type": "stream",
     "text": [
      "loop 1:   0%|          | 0/10 [00:00<?, ?it/s]\n",
      "loop 2:   0%|          | 0/3 [00:00<?, ?it/s]\u001b[A\n",
      "loop 2: 100%|██████████| 3/3 [00:00<00:00, 96.07it/s]\u001b[A\n",
      "loop 2:   0%|          | 0/3 [00:00<?, ?it/s]\u001b[A\n",
      "loop 2: 100%|██████████| 3/3 [00:00<00:00, 90.26it/s]\u001b[A\n",
      "loop 2:   0%|          | 0/3 [00:00<?, ?it/s]\u001b[A\n",
      "loop 1:  30%|███       | 3/10 [00:00<00:00, 27.87it/s]\n",
      "loop 2:   0%|          | 0/3 [00:00<?, ?it/s]\u001b[A\n",
      "loop 2: 100%|██████████| 3/3 [00:00<00:00, 84.98it/s]\u001b[A\n",
      "loop 2:   0%|          | 0/3 [00:00<?, ?it/s]\u001b[A\n",
      "loop 2: 100%|██████████| 3/3 [00:00<00:00, 91.00it/s]\u001b[A\n",
      "loop 2:   0%|          | 0/3 [00:00<?, ?it/s]\u001b[A\n",
      "loop 1:  60%|██████    | 6/10 [00:00<00:00, 27.48it/s]\n",
      "loop 2:   0%|          | 0/3 [00:00<?, ?it/s]\u001b[A\n",
      "loop 2: 100%|██████████| 3/3 [00:00<00:00, 86.48it/s]\u001b[A\n",
      "loop 2:   0%|          | 0/3 [00:00<?, ?it/s]\u001b[A\n",
      "loop 2: 100%|██████████| 3/3 [00:00<00:00, 89.98it/s]\u001b[A\n",
      "loop 2:   0%|          | 0/3 [00:00<?, ?it/s]\u001b[A\n",
      "loop 1:  90%|█████████ | 9/10 [00:00<00:00, 27.45it/s]\n",
      "loop 2:   0%|          | 0/3 [00:00<?, ?it/s]\u001b[A\n",
      "loop 1: 100%|██████████| 10/10 [00:00<00:00, 27.10it/s]\n"
     ]
    }
   ],
   "source": [
    "for i in tqdm(range(0,10),desc = 'loop 1'):\n",
    "    for j in tqdm(range(0,3), desc = 'loop 2'):\n",
    "        \n",
    "        sleep(0.01)"
   ]
  },
  {
   "cell_type": "code",
   "execution_count": 10,
   "metadata": {},
   "outputs": [
    {
     "name": "stderr",
     "output_type": "stream",
     "text": [
      "\n",
      "  0%|          | 0/10 [00:00<?, ?it/s]\u001b[A\n",
      "100%|██████████| 10/10 [00:00<00:00, 10504.14it/s]\u001b[A"
     ]
    },
    {
     "name": "stdout",
     "output_type": "stream",
     "text": [
      "0\n",
      "1\n",
      "2\n",
      "3\n",
      "4\n",
      "5\n",
      "6\n",
      "7\n",
      "8\n",
      "9\n"
     ]
    }
   ],
   "source": [
    "for i in tqdm(range(0,10)):\n",
    "    print(i)"
   ]
  },
  {
   "cell_type": "code",
   "execution_count": 1,
   "metadata": {},
   "outputs": [
    {
     "name": "stdout",
     "output_type": "stream",
     "text": [
      "README.md    cgan.py      cnn.py       fnn.ipynb    main.ipynb   tqdm.ipynb\n",
      "\u001b[34m__pycache__\u001b[m\u001b[m/ cnn.ipynb    \u001b[34mdata\u001b[m\u001b[m/        fnn.py       \u001b[34mruns\u001b[m\u001b[m/        train.png\n"
     ]
    }
   ],
   "source": [
    "ls"
   ]
  },
  {
   "cell_type": "code",
   "execution_count": null,
   "metadata": {},
   "outputs": [
    {
     "name": "stdout",
     "output_type": "stream",
     "text": [
      " \n",
      "**\n",
      "Script Start\n",
      "**\n",
      " \n",
      "resource:  Intel(R) Core(TM) i7-8750H CPU @ 2.20GHz\n",
      "pytorch version:  1.0.1.post2\n",
      "****************\n",
      "10000\n",
      " \n",
      "----------------------------------------------------------------\n",
      "        Layer (type)               Output Shape         Param #\n",
      "================================================================\n",
      "            Linear-1               [-1, 100, 1]             785\n",
      "              ReLU-2               [-1, 100, 1]               0\n",
      "            Linear-3              [-1, 100, 10]              20\n",
      "================================================================\n",
      "Total params: 805\n",
      "Trainable params: 805\n",
      "Non-trainable params: 0\n",
      "----------------------------------------------------------------\n",
      "Input size (MB): 0.30\n",
      "Forward/backward pass size (MB): 0.01\n",
      "Params size (MB): 0.00\n",
      "Estimated Total Size (MB): 0.31\n",
      "----------------------------------------------------------------\n",
      " \n",
      "  0%|                                                   | 0/600 [00:00<?, ?it/s] \n",
      "training started\n",
      " \n",
      " 62%|████████████████████████▊               | 372/600 [00:03<00:01, 117.81it/s]"
     ]
    }
   ],
   "source": [
    "!python cnn.py"
   ]
  },
  {
   "cell_type": "code",
   "execution_count": null,
   "metadata": {},
   "outputs": [],
   "source": []
  },
  {
   "cell_type": "code",
   "execution_count": null,
   "metadata": {},
   "outputs": [],
   "source": []
  },
  {
   "cell_type": "code",
   "execution_count": null,
   "metadata": {},
   "outputs": [],
   "source": []
  }
 ],
 "metadata": {
  "kernelspec": {
   "display_name": "Python 3",
   "language": "python",
   "name": "python3"
  },
  "language_info": {
   "codemirror_mode": {
    "name": "ipython",
    "version": 3
   },
   "file_extension": ".py",
   "mimetype": "text/x-python",
   "name": "python",
   "nbconvert_exporter": "python",
   "pygments_lexer": "ipython3",
   "version": "3.6.8"
  }
 },
 "nbformat": 4,
 "nbformat_minor": 2
}
